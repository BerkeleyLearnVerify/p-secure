{
 "cells": [
  {
   "cell_type": "code",
   "execution_count": 26,
   "metadata": {},
   "outputs": [],
   "source": [
    "import numpy as np\n",
    "import pandas as pd\n",
    "import matplotlib.pyplot as plt\n",
    "import seaborn as sns\n",
    "\n",
    "\n",
    " \n",
    "sns.set(rc={'figure.figsize':(11.7,8.27)})\n",
    "sns.set_context('poster')\n",
    "sns.set_style(\"whitegrid\")"
   ]
  },
  {
   "cell_type": "code",
   "execution_count": 27,
   "metadata": {},
   "outputs": [],
   "source": [
    "import math\n",
    "\n",
    "# function to print series of n elements that has specified mean and standard deviation d\n",
    "def series(n, mean, d): \n",
    "    ret_lst = []\n",
    "    # if S.D. is 0 then print all \n",
    "    # elements as 0. \n",
    "    if d == 0: \n",
    "        # print n 0's \n",
    "        for i in range(n): \n",
    "            ret_lst.append(0)\n",
    "#             print(\"0\", end = ' ') \n",
    "        return 1\n",
    "          \n",
    "    # if S.D. is even \n",
    "    if n % 2 == 0: \n",
    "        # print -SD, +SD, -SD, +SD \n",
    "        i = 1\n",
    "        while i <= n: \n",
    "            ret_lst.append((math.pow(-1, i) * d))\n",
    "#             print(\"%.5f\"%((math.pow(-1, i) * d)), \n",
    "#                   end =' ') \n",
    "            i += 1\n",
    "    else: \n",
    "        # if odd \n",
    "        # convert n to a float integer \n",
    "        m = n \n",
    "        r = (m / (m - 1)) \n",
    "        g = (float)(d * float(math.sqrt(r))) \n",
    "          \n",
    "        # print one element to be 0 \n",
    "        ret_lst.append(0)\n",
    "#         print(\"0 \", end = ' ') \n",
    "          \n",
    "        # print (n-1) elements as xi derived \n",
    "        # from the formula \n",
    "        i = 1\n",
    "        while i < n: \n",
    "            ret_lst.append(math.pow(-1, i) * g)\n",
    "#             print(\"%.5f\"%(math.pow(-1, i) * g), \n",
    "#                   end = ' ') \n",
    "            i = i + 1\n",
    "#     print(\"\\n\") \n",
    "    return [i + mean for i in ret_lst]"
   ]
  },
  {
   "cell_type": "code",
   "execution_count": 28,
   "metadata": {},
   "outputs": [
    {
     "name": "stdout",
     "output_type": "stream",
     "text": [
      "   Number of Votes/OTP Codes Sent  Performance Overhead  Example\n",
      "0                               1              3.610530  Civitas\n",
      "1                               1              9.695898      OTP\n",
      "2                               5              3.272002  Civitas\n",
      "3                               5              5.435897      OTP\n",
      "4                              10              2.682984  Civitas\n",
      "5                              10              4.413406      OTP\n",
      "6                              15              2.835650  Civitas\n",
      "7                              15              3.320303      OTP\n"
     ]
    }
   ],
   "source": [
    "import json\n",
    "import statistics \n",
    "\n",
    "numVotes = [1, 5, 10, 15]\n",
    "examples = ['Civitas', 'OTP']\n",
    "performanceDifference = []\n",
    "\n",
    "for vote in numVotes:\n",
    "    for example in examples:\n",
    "        with open('{}-{}Vote.txt'.format(example, vote)) as json_file:\n",
    "            example_data = json.load(json_file)\n",
    "        with open('{}PBaseline-{}Vote.txt'.format(example, vote)) as json_file:\n",
    "            example_p_baseline_data = json.load(json_file)\n",
    "\n",
    "        for key in example_data.keys():\n",
    "            lst = example_data[key] \n",
    "    #         print(key)\n",
    "    #         print('Civitas Mean {}:'.format(vote))\n",
    "            example_mean = float(sum(lst))/len(lst)\n",
    "    #         print(civitas_mean)\n",
    "\n",
    "        for key in example_p_baseline_data.keys():\n",
    "            lst = example_p_baseline_data[key] \n",
    "    #         print(key)\n",
    "    #         print('Civitas P Baseline Mean {}:'.format(vote))\n",
    "            example_p_baseline_mean = float(sum(lst))/len(lst)\n",
    "    #         print(civitas_p_baseline_mean)\n",
    "\n",
    "        performanceDifference.append((vote, example_mean/example_p_baseline_mean, example))\n",
    "performanceDifference = pd.DataFrame(performanceDifference, columns = ['Number of Votes/OTP Codes Sent' , 'Performance Overhead', 'Example']) \n",
    "print(performanceDifference)\n",
    "\n"
   ]
  },
  {
   "cell_type": "code",
   "execution_count": 29,
   "metadata": {},
   "outputs": [
    {
     "data": {
      "image/png": "[encoded data removed]",
      "text/plain": [
       "<Figure size 360x360 with 1 Axes>"
      ]
     },
     "metadata": {},
     "output_type": "display_data"
    }
   ],
   "source": [
    "\n",
    "sns.set(rc={'figure.figsize':(11.7,8.27)})\n",
    "# sns.set_context('poster')\n",
    "sns.set_style(\"whitegrid\")\n",
    "\n",
    "sns.lmplot(x=\"Number of Votes/OTP Codes Sent\", y=\"Performance Overhead\", hue='Example', data=performanceDifference,\n",
    "           ci=None, legend_out=False)\n",
    "\n",
    "ax = plt.gca()\n",
    "# ax.set_xlabel('Create')\n",
    "# ymin = 2.5\n",
    "# ylimit = 4\n",
    "# xlimit = 15.5\n",
    "# plt.ylim(ymin, ylimit)\n",
    "# plt.yticks(np.arange(ymin, ylimit + 0.5, 0.5))\n",
    "# plt.xlim(0, xlimit)\n",
    "# plt.xticks(np.arange(0, xlimit + 1, 5))\n",
    "\n",
    "plt.savefig('PSecCivitasOTPOverheadComparision.png',dpi=500)\n"
   ]
  },
  {
   "cell_type": "code",
   "execution_count": null,
   "metadata": {},
   "outputs": [],
   "source": []
  }
 ],
 "metadata": {
  "kernelspec": {
   "display_name": "Python 3",
   "language": "python",
   "name": "python3"
  },
  "language_info": {
   "codemirror_mode": {
    "name": "ipython",
    "version": 3
   },
   "file_extension": ".py",
   "mimetype": "text/x-python",
   "name": "python",
   "nbconvert_exporter": "python",
   "pygments_lexer": "ipython3",
   "version": "3.7.3"
  }
 },
 "nbformat": 4,
 "nbformat_minor": 2
}
